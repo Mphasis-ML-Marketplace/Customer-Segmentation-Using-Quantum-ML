{
 "cells": [
  {
   "attachments": {},
   "cell_type": "markdown",
   "id": "a33de124",
   "metadata": {},
   "source": [
    "## Customer Segmentation Using Quantum ML\n",
    "\n",
    "This Quantum computing-based solution segments the credit card customers by leveraging historical data of customerser\n",
    "\n",
    "This sample notebook shows you how to attack model and find robustness from AWS Marketplace \n",
    "\n",
    "> **Note**: This is a reference notebook and it cannot run unless you make changes suggested in the notebook.\n",
    "\n",
    "#### Pre-requisites:\n",
    "1. **Note**: This notebook contains elements which render correctly in Jupyter interface. Open this notebook from an Amazon SageMaker Notebook Instance or Amazon SageMaker Studio.\n",
    "1. Ensure that IAM role used has **AmazonSageMakerFullAccess**\n",
    "1. Some hands-on experience using [Amazon SageMaker](https://aws.amazon.com/sagemaker/).\n",
    "1. To use this algorithm successfully, ensure that:\n",
    "    1. Either your IAM role has these three permissions and you have authority to make AWS Marketplace subscriptions in the AWS account used: \n",
    "        1. **aws-marketplace:ViewSubscriptions**\n",
    "        1. **aws-marketplace:Unsubscribe**\n",
    "        1. **aws-marketplace:Subscribe**  \n",
    "    2. or your AWS account has a subscription to For Seller to update: ML Robustness: Poison attack on images. \n",
    "\n",
    "#### Contents:\n",
    "1. [Subscribe to the algorithm](#1.-Subscribe-to-the-algorithm)\n",
    "1. [Prepare dataset](#2.-Prepare-dataset)\n",
    "\t1. [Dataset format expected by the algorithm](#A.-Dataset-format-expected-by-the-algorithm)\n",
    "\t1. [Configure dataset](#B.-Configure-dataset)\n",
    "\t1. [Upload datasets to Amazon S3](#C.-Upload-datasets-to-Amazon-S3)\n",
    "1. [Execute the training process](#3.-Execute-the-training-process)\n",
    "\t1. [Set up environment](#3.1-Set-up-environment)\n",
    "\t1. [Execute model](#3.2-Execute-model)\n",
    "    1. [Visualize Output](#3.3-Inspect-the-Output-in-S3)\n",
    "1. [Clean-up](#4.-Clean-up)\n",
    "\t1. [Unsubscribe to the listing (optional)](#Unsubscribe-to-the-listing-(optional))\n",
    "\n",
    "\n",
    "#### Usage instructions\n",
    "You can run this notebook one cell at a time (By using Shift+Enter for running a cell)."
   ]
  },
  {
   "cell_type": "markdown",
   "id": "7f93919a",
   "metadata": {},
   "source": [
    "### 1. Subscribe to the algorithm"
   ]
  },
  {
   "cell_type": "markdown",
   "id": "538c4789",
   "metadata": {},
   "source": [
    "To subscribe to the algorithm:\n",
    "1. Open the algorithm listing page **Customer Segmentation Using Quantum ML**\n",
    "1. On the AWS Marketplace listing,  click on **Continue to subscribe** button.\n",
    "1. On the **Subscribe to this software** page, review and click on **\"Accept Offer\"** if you agree with EULA, pricing, and support terms. \n",
    "1. Once you click on **Continue to configuration button** and then choose a **region**, you will see a **Product Arn**. This is the algorithm ARN that you need to specify while training a custom ML model. Copy the ARN corresponding to your region and specify the same in the following cell."
   ]
  },
  {
   "cell_type": "code",
   "execution_count": 1,
   "id": "627ef656",
   "metadata": {},
   "outputs": [],
   "source": [
    "algo_arn = \"credit-card-qclustering-copy1\""
   ]
  },
  {
   "cell_type": "markdown",
   "id": "ca5f360a",
   "metadata": {},
   "source": [
    "### 2. Prepare dataset"
   ]
  },
  {
   "cell_type": "code",
   "execution_count": 2,
   "id": "81b83b49",
   "metadata": {},
   "outputs": [],
   "source": [
    "import os\n",
    "import json \n",
    "import uuid\n",
    "import boto3\n",
    "import pickle\n",
    "import base64\n",
    "import tarfile\n",
    "from pprint import pprint\n",
    "\n",
    "import numpy as np\n",
    "import pandas as pd\n",
    "\n",
    "import urllib.request\n",
    "from urllib.parse import urlparse\n",
    "\n",
    "import sagemaker as sage\n",
    "from sagemaker import ModelPackage\n",
    "from sagemaker import get_execution_role"
   ]
  },
  {
   "cell_type": "markdown",
   "id": "84d65cce",
   "metadata": {},
   "source": [
    "#### A. Dataset format expected by the algorithm"
   ]
  },
  {
   "cell_type": "markdown",
   "id": "3742f7fd",
   "metadata": {},
   "source": [
    "The algorithm requires data in the format as described for best results:\n",
    "* Input File name should be input.zip\n",
    "* The input data files must contain two csv files.\n",
    "* For detailed instructions, please refer sample input and algorithm input details"
   ]
  },
  {
   "cell_type": "markdown",
   "id": "76100ec0",
   "metadata": {},
   "source": [
    "#### B. Configure dataset"
   ]
  },
  {
   "cell_type": "code",
   "execution_count": 3,
   "id": "962fbe96",
   "metadata": {},
   "outputs": [],
   "source": [
    "training_dataset=\"input/input.zip\""
   ]
  },
  {
   "cell_type": "markdown",
   "id": "480b57a7",
   "metadata": {},
   "source": [
    "#### C. Upload datasets to Amazon S3"
   ]
  },
  {
   "cell_type": "code",
   "execution_count": 4,
   "id": "0779a354",
   "metadata": {},
   "outputs": [],
   "source": [
    "role = get_execution_role()"
   ]
  },
  {
   "cell_type": "code",
   "execution_count": null,
   "id": "18dc54d8",
   "metadata": {},
   "outputs": [],
   "source": [
    "sagemaker_session = sage.Session()\n",
    "\n",
    "bucket = sagemaker_session.default_bucket()\n",
    "bucket"
   ]
  },
  {
   "cell_type": "code",
   "execution_count": null,
   "id": "f134bc3d",
   "metadata": {},
   "outputs": [],
   "source": [
    "# training input location\n",
    "common_prefix = \"credit-card-customer-qclustering\"\n",
    "training_input_prefix = common_prefix + \"/training-input-data\"\n",
    "TRAINING_WORKDIR = \"input\" #Input directory in Jupyter Server\n",
    "training_input = sagemaker_session.upload_data(TRAINING_WORKDIR, key_prefix=training_input_prefix) #uploads data from jupyter server to S3\n",
    "print(\"Training input uploaded to \" + training_input)"
   ]
  },
  {
   "cell_type": "markdown",
   "id": "9ec3ecf6",
   "metadata": {},
   "source": [
    "## 3. Execute the training process"
   ]
  },
  {
   "cell_type": "markdown",
   "id": "43d58230",
   "metadata": {},
   "source": [
    "Now that dataset is available in an accessible Amazon S3 bucket, we are ready to execute a training pipeline to get clean sentiment class labels using clean-sentiment-classification-labels Algorithm. "
   ]
  },
  {
   "cell_type": "markdown",
   "id": "36a5a55f",
   "metadata": {},
   "source": [
    "### 3.1 Set up environment"
   ]
  },
  {
   "cell_type": "code",
   "execution_count": 7,
   "id": "3284d34c",
   "metadata": {},
   "outputs": [],
   "source": [
    "output_location = 's3://{}/{}/{}'.format(bucket, common_prefix,'Output')"
   ]
  },
  {
   "cell_type": "code",
   "execution_count": null,
   "id": "9fbdbc91",
   "metadata": {},
   "outputs": [],
   "source": [
    "output_location"
   ]
  },
  {
   "cell_type": "markdown",
   "id": "e470664d",
   "metadata": {},
   "source": [
    "### 3.2 Execute model"
   ]
  },
  {
   "cell_type": "markdown",
   "id": "12ceabaf",
   "metadata": {},
   "source": [
    "For information on creating an `Estimator` object, see [documentation](https://sagemaker.readthedocs.io/en/stable/api/training/estimators.html)"
   ]
  },
  {
   "cell_type": "code",
   "execution_count": 9,
   "id": "36b7e241",
   "metadata": {},
   "outputs": [],
   "source": [
    "training_instance_type=\"ml.m5.4xlarge\""
   ]
  },
  {
   "cell_type": "code",
   "execution_count": 10,
   "id": "06e485bb",
   "metadata": {
    "scrolled": true
   },
   "outputs": [
    {
     "name": "stdout",
     "output_type": "stream",
     "text": [
      "2023-12-05 10:14:29 Starting - Starting the training job...\n",
      "2023-12-05 10:14:54 Starting - Preparing the instances for trainingProfilerReport-1701771268: InProgress\n",
      "......\n",
      "2023-12-05 10:15:54 Downloading - Downloading input data...\n",
      "2023-12-05 10:16:14 Training - Training image download completed. Training in progress..\u001b[34m8\u001b[0m\n",
      "\u001b[34mtime taken for objective 0.32114148139953613\u001b[0m\n",
      "\u001b[34mtime taken for constraint 0.1459050178527832\u001b[0m\n",
      "\u001b[34mnow solving\u001b[0m\n",
      "\u001b[34mgot soln from dwave\u001b[0m\n",
      "\u001b[34mcalculating silhouete score\u001b[0m\n",
      "\u001b[34minteration for next clusters number\u001b[0m\n",
      "\u001b[34mtime taken for objective 0.3248786926269531\u001b[0m\n",
      "\u001b[34mtime taken for constraint 0.14206767082214355\u001b[0m\n",
      "\u001b[34mnow solving\u001b[0m\n",
      "\u001b[34mgot soln from dwave\u001b[0m\n",
      "\u001b[34mcalculating silhouete score\u001b[0m\n",
      "\u001b[34minteration for next clusters number\u001b[0m\n",
      "\u001b[34mtime taken for objective 0.32585978507995605\u001b[0m\n",
      "\u001b[34mtime taken for constraint 0.14171886444091797\u001b[0m\n",
      "\u001b[34mnow solving\u001b[0m\n",
      "\u001b[34mgot soln from dwave\u001b[0m\n",
      "\u001b[34mcalculating silhouete score\u001b[0m\n",
      "\u001b[34minteration for next clusters number\u001b[0m\n",
      "\u001b[34mtime taken for objective 0.330608606338501\u001b[0m\n",
      "\u001b[34mtime taken for constraint 0.1432640552520752\u001b[0m\n",
      "\u001b[34mnow solving\u001b[0m\n",
      "\u001b[34mgot soln from dwave\u001b[0m\n",
      "\u001b[34mcalculating silhouete score\u001b[0m\n",
      "\u001b[34minteration for next clusters number\u001b[0m\n",
      "\u001b[34mtime taken for objective 0.32312607765197754\u001b[0m\n",
      "\u001b[34mtime taken for constraint 0.14055657386779785\u001b[0m\n",
      "\u001b[34mnow solving\u001b[0m\n",
      "\u001b[34mgot soln from dwave\u001b[0m\n",
      "\u001b[34mcalculating silhouete score\u001b[0m\n",
      "\u001b[34minteration for next clusters number\u001b[0m\n",
      "\u001b[34mtime taken for objective 0.32332706451416016\u001b[0m\n",
      "\u001b[34mtime taken for constraint 0.14226770401000977\u001b[0m\n",
      "\u001b[34mnow solving\u001b[0m\n",
      "\u001b[34mgot soln from dwave\u001b[0m\n",
      "\u001b[34mcalculating silhouete score\u001b[0m\n",
      "\u001b[34minteration for next clusters number\u001b[0m\n",
      "\u001b[34mtime taken for objective 0.3244926929473877\u001b[0m\n",
      "\u001b[34mtime taken for constraint 0.14235997200012207\u001b[0m\n",
      "\u001b[34mnow solving\u001b[0m\n",
      "\u001b[34mgot soln from dwave\u001b[0m\n",
      "\u001b[34mcalculating silhouete score\u001b[0m\n",
      "\u001b[34minteration for next clusters number\u001b[0m\n",
      "\u001b[34m[1022, 3084, 3314, 5824]\u001b[0m\n",
      "\u001b[34mtraining complete\u001b[0m\n",
      "\n",
      "2023-12-05 10:18:20 Uploading - Uploading generated training model\n",
      "2023-12-05 10:18:20 Completed - Training job completed\n",
      "Training seconds: 146\n",
      "Billable seconds: 146\n"
     ]
    }
   ],
   "source": [
    "#Create an estimator object for running a training job\n",
    "estimator = sage.algorithm.AlgorithmEstimator(\n",
    "    algorithm_arn=algo_arn,\n",
    "    base_job_name=\"credit-card-customer-qclustering\",\n",
    "    role=role,\n",
    "    train_instance_count=1,\n",
    "    train_instance_type=training_instance_type,\n",
    "    input_mode=\"File\",\n",
    "    output_path=output_location,\n",
    "    sagemaker_session=sagemaker_session,\n",
    "    instance_count=1,\n",
    "    instance_type=training_instance_type\n",
    ")\n",
    "\n",
    "#Run the training job.\n",
    "estimator.fit({\"training\": training_input})"
   ]
  },
  {
   "cell_type": "markdown",
   "id": "a970a441",
   "metadata": {},
   "source": [
    "See this [blog-post](https://aws.amazon.com/blogs/machine-learning/easily-monitor-and-visualize-metrics-while-training-models-on-amazon-sagemaker/) for more information how to visualize metrics during the process. You can also open the training job from [Amazon SageMaker console](https://console.aws.amazon.com/sagemaker/home?#/jobs/) and monitor the metrics/logs in **Monitor** section."
   ]
  },
  {
   "cell_type": "code",
   "execution_count": null,
   "id": "b36cf3eb",
   "metadata": {},
   "outputs": [],
   "source": [
    "#output is available on following path\n",
    "estimator.output_path"
   ]
  },
  {
   "cell_type": "markdown",
   "id": "579f03d8",
   "metadata": {},
   "source": [
    "## Note: Inferencing is done within training pipeline. Real time inference endpoint/batch transform job is not required."
   ]
  },
  {
   "cell_type": "markdown",
   "id": "c5b38162",
   "metadata": {},
   "source": [
    "### 3.3 Inspect the Output in S3"
   ]
  },
  {
   "cell_type": "code",
   "execution_count": 12,
   "id": "3ecbe98f",
   "metadata": {},
   "outputs": [],
   "source": [
    "parsed_url = urlparse(estimator.output_path)\n",
    "bucket_name = parsed_url.netloc\n",
    "file_key = parsed_url.path[1:]+'/'+estimator.latest_training_job.job_name+'/output/'+\"model.tar.gz\"\n",
    "\n",
    "s3_client = sagemaker_session.boto_session.client('s3')\n",
    "response = s3_client.get_object(Bucket = sagemaker_session.default_bucket(), Key = file_key)"
   ]
  },
  {
   "cell_type": "code",
   "execution_count": 13,
   "id": "2f865b3c",
   "metadata": {},
   "outputs": [],
   "source": [
    "bucketFolder = estimator.output_path.rsplit('/')[3] +'/Output/'+ estimator.latest_training_job.job_name+'/output/'+\"model.tar.gz\""
   ]
  },
  {
   "cell_type": "code",
   "execution_count": 15,
   "id": "0af6b190",
   "metadata": {},
   "outputs": [
    {
     "name": "stderr",
     "output_type": "stream",
     "text": [
      "/home/ec2-user/anaconda3/envs/python3/lib/python3.6/site-packages/boto3/compat.py:88: PythonDeprecationWarning: Boto3 will no longer support Python 3.6 starting May 30, 2022. To continue receiving service updates, bug fixes, and security updates please upgrade to Python 3.7 or later. More information can be found here: https://aws.amazon.com/blogs/developer/python-support-policy-updates-for-aws-sdks-and-tools/\n",
      "  warnings.warn(warning, PythonDeprecationWarning)\n"
     ]
    },
    {
     "name": "stdout",
     "output_type": "stream",
     "text": [
      "Output file loaded from bucket\n"
     ]
    }
   ],
   "source": [
    "s3_conn = boto3.client(\"s3\")\n",
    "bucket_name=bucket\n",
    "with open('output.tar.gz', 'wb') as f:\n",
    "    s3_conn.download_fileobj(bucket_name, bucketFolder, f)\n",
    "    print(\"Output file loaded from bucket\")"
   ]
  },
  {
   "cell_type": "code",
   "execution_count": 17,
   "id": "650a637a",
   "metadata": {},
   "outputs": [],
   "source": [
    "with tarfile.open('output.tar.gz') as file:\n",
    "    file.extractall('./output')\n",
    "\n",
    "\n",
    "output = pd.read_csv(\"output/output/input_data_with_clusters.csv\")"
   ]
  },
  {
   "cell_type": "markdown",
   "id": "791e9e43",
   "metadata": {},
   "source": [
    "### Cluster centers"
   ]
  },
  {
   "cell_type": "code",
   "execution_count": 19,
   "id": "7ea09be5",
   "metadata": {},
   "outputs": [
    {
     "data": {
      "text/html": [
       "<div>\n",
       "<style scoped>\n",
       "    .dataframe tbody tr th:only-of-type {\n",
       "        vertical-align: middle;\n",
       "    }\n",
       "\n",
       "    .dataframe tbody tr th {\n",
       "        vertical-align: top;\n",
       "    }\n",
       "\n",
       "    .dataframe thead th {\n",
       "        text-align: right;\n",
       "    }\n",
       "</style>\n",
       "<table border=\"1\" class=\"dataframe\">\n",
       "  <thead>\n",
       "    <tr style=\"text-align: right;\">\n",
       "      <th></th>\n",
       "      <th>CUST_ID</th>\n",
       "      <th>BALANCE</th>\n",
       "      <th>BALANCE_FREQUENCY</th>\n",
       "      <th>PURCHASES</th>\n",
       "      <th>ONEOFF_PURCHASES</th>\n",
       "      <th>INSTALLMENTS_PURCHASES</th>\n",
       "      <th>CASH_ADVANCE</th>\n",
       "      <th>PURCHASES_FREQUENCY</th>\n",
       "      <th>ONEOFF_PURCHASES_FREQUENCY</th>\n",
       "      <th>PURCHASES_INSTALLMENTS_FREQUENCY</th>\n",
       "      <th>CASH_ADVANCE_FREQUENCY</th>\n",
       "      <th>CASH_ADVANCE_TRX</th>\n",
       "      <th>PURCHASES_TRX</th>\n",
       "      <th>CREDIT_LIMIT</th>\n",
       "      <th>PAYMENTS</th>\n",
       "      <th>MINIMUM_PAYMENTS</th>\n",
       "      <th>PRC_FULL_PAYMENT</th>\n",
       "      <th>TENURE</th>\n",
       "      <th>cluster</th>\n",
       "      <th>cluster_center</th>\n",
       "    </tr>\n",
       "  </thead>\n",
       "  <tbody>\n",
       "    <tr>\n",
       "      <th>1022</th>\n",
       "      <td>C11142</td>\n",
       "      <td>683.971012</td>\n",
       "      <td>0.909091</td>\n",
       "      <td>294.00</td>\n",
       "      <td>145.00</td>\n",
       "      <td>149.00</td>\n",
       "      <td>281.669381</td>\n",
       "      <td>0.500000</td>\n",
       "      <td>0.083333</td>\n",
       "      <td>0.416667</td>\n",
       "      <td>0.166667</td>\n",
       "      <td>2</td>\n",
       "      <td>7</td>\n",
       "      <td>3500.0</td>\n",
       "      <td>1578.374440</td>\n",
       "      <td>174.836120</td>\n",
       "      <td>0.100000</td>\n",
       "      <td>12</td>\n",
       "      <td>0</td>\n",
       "      <td>1</td>\n",
       "    </tr>\n",
       "    <tr>\n",
       "      <th>3084</th>\n",
       "      <td>C13300</td>\n",
       "      <td>1508.807110</td>\n",
       "      <td>1.000000</td>\n",
       "      <td>372.16</td>\n",
       "      <td>325.32</td>\n",
       "      <td>46.84</td>\n",
       "      <td>1172.467897</td>\n",
       "      <td>0.416667</td>\n",
       "      <td>0.250000</td>\n",
       "      <td>0.333333</td>\n",
       "      <td>0.166667</td>\n",
       "      <td>9</td>\n",
       "      <td>11</td>\n",
       "      <td>2500.0</td>\n",
       "      <td>2948.811260</td>\n",
       "      <td>1021.416857</td>\n",
       "      <td>0.083333</td>\n",
       "      <td>12</td>\n",
       "      <td>1</td>\n",
       "      <td>1</td>\n",
       "    </tr>\n",
       "    <tr>\n",
       "      <th>3314</th>\n",
       "      <td>C13538</td>\n",
       "      <td>1413.006634</td>\n",
       "      <td>1.000000</td>\n",
       "      <td>1678.69</td>\n",
       "      <td>1528.69</td>\n",
       "      <td>150.00</td>\n",
       "      <td>392.356874</td>\n",
       "      <td>0.500000</td>\n",
       "      <td>0.166667</td>\n",
       "      <td>0.333333</td>\n",
       "      <td>0.083333</td>\n",
       "      <td>1</td>\n",
       "      <td>8</td>\n",
       "      <td>1800.0</td>\n",
       "      <td>2308.456562</td>\n",
       "      <td>510.627017</td>\n",
       "      <td>0.083333</td>\n",
       "      <td>12</td>\n",
       "      <td>2</td>\n",
       "      <td>1</td>\n",
       "    </tr>\n",
       "    <tr>\n",
       "      <th>5824</th>\n",
       "      <td>C16189</td>\n",
       "      <td>493.557307</td>\n",
       "      <td>0.909091</td>\n",
       "      <td>1653.34</td>\n",
       "      <td>559.83</td>\n",
       "      <td>1093.51</td>\n",
       "      <td>1949.228028</td>\n",
       "      <td>0.583333</td>\n",
       "      <td>0.250000</td>\n",
       "      <td>0.500000</td>\n",
       "      <td>0.166667</td>\n",
       "      <td>2</td>\n",
       "      <td>13</td>\n",
       "      <td>2500.0</td>\n",
       "      <td>3719.691848</td>\n",
       "      <td>199.343090</td>\n",
       "      <td>0.181818</td>\n",
       "      <td>12</td>\n",
       "      <td>3</td>\n",
       "      <td>1</td>\n",
       "    </tr>\n",
       "  </tbody>\n",
       "</table>\n",
       "</div>"
      ],
      "text/plain": [
       "     CUST_ID      BALANCE  BALANCE_FREQUENCY  PURCHASES  ONEOFF_PURCHASES  \\\n",
       "1022  C11142   683.971012           0.909091     294.00            145.00   \n",
       "3084  C13300  1508.807110           1.000000     372.16            325.32   \n",
       "3314  C13538  1413.006634           1.000000    1678.69           1528.69   \n",
       "5824  C16189   493.557307           0.909091    1653.34            559.83   \n",
       "\n",
       "      INSTALLMENTS_PURCHASES  CASH_ADVANCE  PURCHASES_FREQUENCY  \\\n",
       "1022                  149.00    281.669381             0.500000   \n",
       "3084                   46.84   1172.467897             0.416667   \n",
       "3314                  150.00    392.356874             0.500000   \n",
       "5824                 1093.51   1949.228028             0.583333   \n",
       "\n",
       "      ONEOFF_PURCHASES_FREQUENCY  PURCHASES_INSTALLMENTS_FREQUENCY  \\\n",
       "1022                    0.083333                          0.416667   \n",
       "3084                    0.250000                          0.333333   \n",
       "3314                    0.166667                          0.333333   \n",
       "5824                    0.250000                          0.500000   \n",
       "\n",
       "      CASH_ADVANCE_FREQUENCY  CASH_ADVANCE_TRX  PURCHASES_TRX  CREDIT_LIMIT  \\\n",
       "1022                0.166667                 2              7        3500.0   \n",
       "3084                0.166667                 9             11        2500.0   \n",
       "3314                0.083333                 1              8        1800.0   \n",
       "5824                0.166667                 2             13        2500.0   \n",
       "\n",
       "         PAYMENTS  MINIMUM_PAYMENTS  PRC_FULL_PAYMENT  TENURE  cluster  \\\n",
       "1022  1578.374440        174.836120          0.100000      12        0   \n",
       "3084  2948.811260       1021.416857          0.083333      12        1   \n",
       "3314  2308.456562        510.627017          0.083333      12        2   \n",
       "5824  3719.691848        199.343090          0.181818      12        3   \n",
       "\n",
       "      cluster_center  \n",
       "1022               1  \n",
       "3084               1  \n",
       "3314               1  \n",
       "5824               1  "
      ]
     },
     "execution_count": 19,
     "metadata": {},
     "output_type": "execute_result"
    }
   ],
   "source": [
    "output[output.cluster_center==1]"
   ]
  },
  {
   "cell_type": "markdown",
   "id": "25459c9f",
   "metadata": {},
   "source": [
    "In this example optimal number of clusters are four and cluster centers for each datapoint is given in column cluster."
   ]
  },
  {
   "cell_type": "markdown",
   "id": "e52e35a2",
   "metadata": {},
   "source": [
    "### 4. Clean-up"
   ]
  },
  {
   "cell_type": "markdown",
   "id": "596ad9c4",
   "metadata": {},
   "source": [
    "#### Unsubscribe to the listing (optional)"
   ]
  },
  {
   "cell_type": "markdown",
   "id": "168213ed",
   "metadata": {},
   "source": [
    "If you would like to unsubscribe to the algorithm, follow these steps. Before you cancel the subscription, ensure that you do not have any [deployable model](https://console.aws.amazon.com/sagemaker/home#/models) created from the model package or using the algorithm. Note - You can find this information by looking at the container name associated with the model. \n",
    "\n",
    "**Steps to unsubscribe to product from AWS Marketplace**:\n",
    "1. Navigate to __Machine Learning__ tab on [__Your Software subscriptions page__](https://aws.amazon.com/marketplace/ai/library?productType=ml&ref_=mlmp_gitdemo_indust)\n",
    "2. Locate the listing that you want to cancel the subscription for, and then choose __Cancel Subscription__  to cancel the subscription."
   ]
  },
  {
   "cell_type": "code",
   "execution_count": null,
   "id": "5b40115f",
   "metadata": {},
   "outputs": [],
   "source": []
  }
 ],
 "metadata": {
  "kernelspec": {
   "display_name": "conda_python3",
   "language": "python",
   "name": "conda_python3"
  },
  "language_info": {
   "codemirror_mode": {
    "name": "ipython",
    "version": 3
   },
   "file_extension": ".py",
   "mimetype": "text/x-python",
   "name": "python",
   "nbconvert_exporter": "python",
   "pygments_lexer": "ipython3",
   "version": "3.6.13"
  }
 },
 "nbformat": 4,
 "nbformat_minor": 5
}
